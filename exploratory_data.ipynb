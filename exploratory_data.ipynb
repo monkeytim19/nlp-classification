{
 "cells": [
  {
   "cell_type": "code",
   "execution_count": 29,
   "metadata": {},
   "outputs": [],
   "source": [
    "import pandas as pd\n",
    "from datasets import Dataset\n",
    "import matplotlib.pyplot as plt\n",
    "import numpy as np\n",
    "from scipy.stats import chi2_contingency, pointbiserialr\n",
    "from sklearn.feature_extraction.text import CountVectorizer"
   ]
  },
  {
   "cell_type": "code",
   "execution_count": 3,
   "metadata": {},
   "outputs": [],
   "source": [
    "# load data\n",
    "train = Dataset.load_from_disk(\"data/train\")\n",
    "val = Dataset.load_from_disk(\"data/val\")\n",
    "dev = Dataset.load_from_disk(\"data/dev\")"
   ]
  },
  {
   "cell_type": "code",
   "execution_count": 4,
   "metadata": {},
   "outputs": [],
   "source": [
    "data = {}\n",
    "data['train'] = pd.DataFrame(train)\n",
    "data['val'] = pd.DataFrame(val)\n",
    "data['dev'] = pd.DataFrame(dev)\n"
   ]
  },
  {
   "cell_type": "code",
   "execution_count": 5,
   "metadata": {},
   "outputs": [
    {
     "name": "stdout",
     "output_type": "stream",
     "text": [
      "10468\n"
     ]
    },
    {
     "data": {
      "text/plain": [
       "993"
      ]
     },
     "execution_count": 5,
     "metadata": {},
     "output_type": "execute_result"
    }
   ],
   "source": [
    "# determine the size of dataset\n",
    "temp = pd.concat([df for df in data.values()])\n",
    "print(len(temp.par_id.unique())) # total size\n",
    "len(temp.par_id.unique()[temp.label == 1]) # total number of PCL paragraphs"
   ]
  },
  {
   "cell_type": "code",
   "execution_count": 6,
   "metadata": {},
   "outputs": [
    {
     "data": {
      "text/plain": [
       "3832"
      ]
     },
     "execution_count": 6,
     "metadata": {},
     "output_type": "execute_result"
    }
   ],
   "source": [
    "# check the test data size\n",
    "test_data = pd.read_csv(\"data/task4_test.tsv\", sep='\\t', header=None)\n",
    "len(test_data[0].unique())"
   ]
  },
  {
   "cell_type": "markdown",
   "metadata": {},
   "source": [
    "## Remove extra prefix in *art_id* column"
   ]
  },
  {
   "cell_type": "code",
   "execution_count": 7,
   "metadata": {},
   "outputs": [],
   "source": [
    "for df in data.values():\n",
    "    np.all(df.art_id.apply(lambda x: True if x[:2] == \"@@\" else False)) # check that all art_id has same prefix '@@'\n",
    "    df['art_id'] = df.art_id.apply(lambda x: x[2:]).astype('int64') # perform removal of prefix\n",
    "    df['art_id'] = df['art_id'].astype('int64') # convert to integer type"
   ]
  },
  {
   "cell_type": "markdown",
   "metadata": {},
   "source": [
    "# Exploratory Data Analysis (on training data)"
   ]
  },
  {
   "cell_type": "code",
   "execution_count": 8,
   "metadata": {},
   "outputs": [
    {
     "data": {
      "text/html": [
       "<div>\n",
       "<style scoped>\n",
       "    .dataframe tbody tr th:only-of-type {\n",
       "        vertical-align: middle;\n",
       "    }\n",
       "\n",
       "    .dataframe tbody tr th {\n",
       "        vertical-align: top;\n",
       "    }\n",
       "\n",
       "    .dataframe thead th {\n",
       "        text-align: right;\n",
       "    }\n",
       "</style>\n",
       "<table border=\"1\" class=\"dataframe\">\n",
       "  <thead>\n",
       "    <tr style=\"text-align: right;\">\n",
       "      <th></th>\n",
       "      <th>par_id</th>\n",
       "      <th>art_id</th>\n",
       "      <th>keyword</th>\n",
       "      <th>country_code</th>\n",
       "      <th>text</th>\n",
       "      <th>label_score</th>\n",
       "      <th>label</th>\n",
       "      <th>label_category_vector</th>\n",
       "      <th>input_ids</th>\n",
       "      <th>attention_mask</th>\n",
       "    </tr>\n",
       "  </thead>\n",
       "  <tbody>\n",
       "    <tr>\n",
       "      <th>0</th>\n",
       "      <td>99</td>\n",
       "      <td>25281193</td>\n",
       "      <td>in-need</td>\n",
       "      <td>my</td>\n",
       "      <td>The departures from London will barely put a d...</td>\n",
       "      <td>0</td>\n",
       "      <td>0</td>\n",
       "      <td>[0, 0, 0, 0, 0, 0, 0]</td>\n",
       "      <td>[101, 1996, 6712, 2015, 2013, 2414, 2097, 4510...</td>\n",
       "      <td>[1, 1, 1, 1, 1, 1, 1, 1, 1, 1, 1, 1, 1, 1, 1, ...</td>\n",
       "    </tr>\n",
       "    <tr>\n",
       "      <th>1</th>\n",
       "      <td>3162</td>\n",
       "      <td>20664287</td>\n",
       "      <td>migrant</td>\n",
       "      <td>nz</td>\n",
       "      <td>\" Singh is the most common surname for our dri...</td>\n",
       "      <td>0</td>\n",
       "      <td>0</td>\n",
       "      <td>[0, 0, 0, 0, 0, 0, 0]</td>\n",
       "      <td>[101, 1000, 5960, 2003, 1996, 2087, 2691, 1198...</td>\n",
       "      <td>[1, 1, 1, 1, 1, 1, 1, 1, 1, 1, 1, 1, 1, 1, 1, ...</td>\n",
       "    </tr>\n",
       "    <tr>\n",
       "      <th>2</th>\n",
       "      <td>246</td>\n",
       "      <td>20000497</td>\n",
       "      <td>homeless</td>\n",
       "      <td>au</td>\n",
       "      <td>What causes someone to become homeless ? Brain...</td>\n",
       "      <td>1</td>\n",
       "      <td>0</td>\n",
       "      <td>[0, 0, 0, 0, 0, 0, 0]</td>\n",
       "      <td>[101, 2054, 5320, 2619, 2000, 2468, 11573, 102...</td>\n",
       "      <td>[1, 1, 1, 1, 1, 1, 1, 1, 1, 1, 1, 1, 1, 1, 1, ...</td>\n",
       "    </tr>\n",
       "    <tr>\n",
       "      <th>3</th>\n",
       "      <td>7613</td>\n",
       "      <td>15679266</td>\n",
       "      <td>vulnerable</td>\n",
       "      <td>za</td>\n",
       "      <td>- An extended-hour 's clinic pilot project was...</td>\n",
       "      <td>0</td>\n",
       "      <td>0</td>\n",
       "      <td>[0, 0, 0, 0, 0, 0, 0]</td>\n",
       "      <td>[101, 1011, 2019, 3668, 1011, 3178, 1005, 1055...</td>\n",
       "      <td>[1, 1, 1, 1, 1, 1, 1, 1, 1, 1, 1, 1, 1, 1, 1, ...</td>\n",
       "    </tr>\n",
       "    <tr>\n",
       "      <th>4</th>\n",
       "      <td>98</td>\n",
       "      <td>15438640</td>\n",
       "      <td>immigrant</td>\n",
       "      <td>pk</td>\n",
       "      <td>The Golden State is home to the country 's lar...</td>\n",
       "      <td>0</td>\n",
       "      <td>0</td>\n",
       "      <td>[0, 0, 0, 0, 0, 0, 0]</td>\n",
       "      <td>[101, 1996, 3585, 2110, 2003, 2188, 2000, 1996...</td>\n",
       "      <td>[1, 1, 1, 1, 1, 1, 1, 1, 1, 1, 1, 1, 1, 1, 1, ...</td>\n",
       "    </tr>\n",
       "    <tr>\n",
       "      <th>...</th>\n",
       "      <td>...</td>\n",
       "      <td>...</td>\n",
       "      <td>...</td>\n",
       "      <td>...</td>\n",
       "      <td>...</td>\n",
       "      <td>...</td>\n",
       "      <td>...</td>\n",
       "      <td>...</td>\n",
       "      <td>...</td>\n",
       "      <td>...</td>\n",
       "    </tr>\n",
       "    <tr>\n",
       "      <th>1670</th>\n",
       "      <td>1029</td>\n",
       "      <td>16905169</td>\n",
       "      <td>homeless</td>\n",
       "      <td>za</td>\n",
       "      <td>Muizenberg residents have lambasted the Muizen...</td>\n",
       "      <td>0</td>\n",
       "      <td>0</td>\n",
       "      <td>[0, 0, 0, 0, 0, 0, 0]</td>\n",
       "      <td>[101, 14163, 4697, 11144, 3901, 2031, 12559, 1...</td>\n",
       "      <td>[1, 1, 1, 1, 1, 1, 1, 1, 1, 1, 1, 1, 1, 1, 1, ...</td>\n",
       "    </tr>\n",
       "    <tr>\n",
       "      <th>1671</th>\n",
       "      <td>2767</td>\n",
       "      <td>23925</td>\n",
       "      <td>disabled</td>\n",
       "      <td>in</td>\n",
       "      <td>Christian missionaries care for the destitute ...</td>\n",
       "      <td>4</td>\n",
       "      <td>1</td>\n",
       "      <td>[1, 1, 0, 0, 0, 0, 0]</td>\n",
       "      <td>[101, 3017, 11743, 2729, 2005, 1996, 4078, 377...</td>\n",
       "      <td>[1, 1, 1, 1, 1, 1, 1, 1, 1, 1, 1, 1, 1, 1, 1, ...</td>\n",
       "    </tr>\n",
       "    <tr>\n",
       "      <th>1672</th>\n",
       "      <td>5532</td>\n",
       "      <td>10345914</td>\n",
       "      <td>women</td>\n",
       "      <td>gh</td>\n",
       "      <td>I bid you fraternal greetings Hon. Alex Bapula...</td>\n",
       "      <td>0</td>\n",
       "      <td>0</td>\n",
       "      <td>[0, 0, 0, 0, 0, 0, 0]</td>\n",
       "      <td>[101, 1045, 7226, 2017, 25312, 16451, 2389, 14...</td>\n",
       "      <td>[1, 1, 1, 1, 1, 1, 1, 1, 1, 1, 1, 1, 1, 1, 1, ...</td>\n",
       "    </tr>\n",
       "    <tr>\n",
       "      <th>1673</th>\n",
       "      <td>3641</td>\n",
       "      <td>70027514</td>\n",
       "      <td>hopeless</td>\n",
       "      <td>jm</td>\n",
       "      <td>\" He had one good Ashes series and what he del...</td>\n",
       "      <td>0</td>\n",
       "      <td>0</td>\n",
       "      <td>[0, 0, 0, 0, 0, 0, 0]</td>\n",
       "      <td>[101, 1000, 2002, 2018, 2028, 2204, 11289, 218...</td>\n",
       "      <td>[1, 1, 1, 1, 1, 1, 1, 1, 1, 1, 1, 1, 1, 1, 1, ...</td>\n",
       "    </tr>\n",
       "    <tr>\n",
       "      <th>1674</th>\n",
       "      <td>3763</td>\n",
       "      <td>7428468</td>\n",
       "      <td>in-need</td>\n",
       "      <td>gb</td>\n",
       "      <td>' We also thought that the baby in her uterus ...</td>\n",
       "      <td>0</td>\n",
       "      <td>0</td>\n",
       "      <td>[0, 0, 0, 0, 0, 0, 0]</td>\n",
       "      <td>[101, 1005, 2057, 2036, 2245, 2008, 1996, 3336...</td>\n",
       "      <td>[1, 1, 1, 1, 1, 1, 1, 1, 1, 1, 1, 1, 1, 1, 1, ...</td>\n",
       "    </tr>\n",
       "  </tbody>\n",
       "</table>\n",
       "<p>8375 rows × 10 columns</p>\n",
       "</div>"
      ],
      "text/plain": [
       "      par_id    art_id     keyword country_code  \\\n",
       "0         99  25281193     in-need           my   \n",
       "1       3162  20664287     migrant           nz   \n",
       "2        246  20000497    homeless           au   \n",
       "3       7613  15679266  vulnerable           za   \n",
       "4         98  15438640   immigrant           pk   \n",
       "...      ...       ...         ...          ...   \n",
       "1670    1029  16905169    homeless           za   \n",
       "1671    2767     23925    disabled           in   \n",
       "1672    5532  10345914       women           gh   \n",
       "1673    3641  70027514    hopeless           jm   \n",
       "1674    3763   7428468     in-need           gb   \n",
       "\n",
       "                                                   text  label_score  label  \\\n",
       "0     The departures from London will barely put a d...            0      0   \n",
       "1     \" Singh is the most common surname for our dri...            0      0   \n",
       "2     What causes someone to become homeless ? Brain...            1      0   \n",
       "3     - An extended-hour 's clinic pilot project was...            0      0   \n",
       "4     The Golden State is home to the country 's lar...            0      0   \n",
       "...                                                 ...          ...    ...   \n",
       "1670  Muizenberg residents have lambasted the Muizen...            0      0   \n",
       "1671  Christian missionaries care for the destitute ...            4      1   \n",
       "1672  I bid you fraternal greetings Hon. Alex Bapula...            0      0   \n",
       "1673  \" He had one good Ashes series and what he del...            0      0   \n",
       "1674  ' We also thought that the baby in her uterus ...            0      0   \n",
       "\n",
       "      label_category_vector  \\\n",
       "0     [0, 0, 0, 0, 0, 0, 0]   \n",
       "1     [0, 0, 0, 0, 0, 0, 0]   \n",
       "2     [0, 0, 0, 0, 0, 0, 0]   \n",
       "3     [0, 0, 0, 0, 0, 0, 0]   \n",
       "4     [0, 0, 0, 0, 0, 0, 0]   \n",
       "...                     ...   \n",
       "1670  [0, 0, 0, 0, 0, 0, 0]   \n",
       "1671  [1, 1, 0, 0, 0, 0, 0]   \n",
       "1672  [0, 0, 0, 0, 0, 0, 0]   \n",
       "1673  [0, 0, 0, 0, 0, 0, 0]   \n",
       "1674  [0, 0, 0, 0, 0, 0, 0]   \n",
       "\n",
       "                                              input_ids  \\\n",
       "0     [101, 1996, 6712, 2015, 2013, 2414, 2097, 4510...   \n",
       "1     [101, 1000, 5960, 2003, 1996, 2087, 2691, 1198...   \n",
       "2     [101, 2054, 5320, 2619, 2000, 2468, 11573, 102...   \n",
       "3     [101, 1011, 2019, 3668, 1011, 3178, 1005, 1055...   \n",
       "4     [101, 1996, 3585, 2110, 2003, 2188, 2000, 1996...   \n",
       "...                                                 ...   \n",
       "1670  [101, 14163, 4697, 11144, 3901, 2031, 12559, 1...   \n",
       "1671  [101, 3017, 11743, 2729, 2005, 1996, 4078, 377...   \n",
       "1672  [101, 1045, 7226, 2017, 25312, 16451, 2389, 14...   \n",
       "1673  [101, 1000, 2002, 2018, 2028, 2204, 11289, 218...   \n",
       "1674  [101, 1005, 2057, 2036, 2245, 2008, 1996, 3336...   \n",
       "\n",
       "                                         attention_mask  \n",
       "0     [1, 1, 1, 1, 1, 1, 1, 1, 1, 1, 1, 1, 1, 1, 1, ...  \n",
       "1     [1, 1, 1, 1, 1, 1, 1, 1, 1, 1, 1, 1, 1, 1, 1, ...  \n",
       "2     [1, 1, 1, 1, 1, 1, 1, 1, 1, 1, 1, 1, 1, 1, 1, ...  \n",
       "3     [1, 1, 1, 1, 1, 1, 1, 1, 1, 1, 1, 1, 1, 1, 1, ...  \n",
       "4     [1, 1, 1, 1, 1, 1, 1, 1, 1, 1, 1, 1, 1, 1, 1, ...  \n",
       "...                                                 ...  \n",
       "1670  [1, 1, 1, 1, 1, 1, 1, 1, 1, 1, 1, 1, 1, 1, 1, ...  \n",
       "1671  [1, 1, 1, 1, 1, 1, 1, 1, 1, 1, 1, 1, 1, 1, 1, ...  \n",
       "1672  [1, 1, 1, 1, 1, 1, 1, 1, 1, 1, 1, 1, 1, 1, 1, ...  \n",
       "1673  [1, 1, 1, 1, 1, 1, 1, 1, 1, 1, 1, 1, 1, 1, 1, ...  \n",
       "1674  [1, 1, 1, 1, 1, 1, 1, 1, 1, 1, 1, 1, 1, 1, 1, ...  \n",
       "\n",
       "[8375 rows x 10 columns]"
      ]
     },
     "execution_count": 8,
     "metadata": {},
     "output_type": "execute_result"
    }
   ],
   "source": [
    "train_val_df = pd.concat([data['train'], data['val']])\n",
    "train_val_df"
   ]
  },
  {
   "cell_type": "code",
   "execution_count": 9,
   "metadata": {},
   "outputs": [
    {
     "data": {
      "text/plain": [
       "12      0\n",
       "99      0\n",
       "117     1\n",
       "118     0\n",
       "129     0\n",
       "       ..\n",
       "1579    0\n",
       "1587    0\n",
       "1610    0\n",
       "1650    0\n",
       "1653    0\n",
       "Name: label, Length: 475, dtype: int64"
      ]
     },
     "execution_count": 9,
     "metadata": {},
     "output_type": "execute_result"
    }
   ],
   "source": [
    "train_val_df['label'][train_val_df['art_id'].map(train_val_df['art_id'].value_counts()) > 1]"
   ]
  },
  {
   "cell_type": "markdown",
   "metadata": {},
   "source": [
    "## Analysis of class labels"
   ]
  },
  {
   "cell_type": "code",
   "execution_count": 20,
   "metadata": {},
   "outputs": [],
   "source": [
    "# create helper function to determine correlation between features and label\n",
    "def cramer_V(freq_table):\n",
    "    x2 = chi2_contingency(freq_table, correction=False)[0]\n",
    "    return np.sqrt((x2 / freq_table.values.sum()) / (min(freq_table.shape) - 1))\n"
   ]
  },
  {
   "cell_type": "markdown",
   "metadata": {},
   "source": [
    "### By length of text "
   ]
  },
  {
   "cell_type": "code",
   "execution_count": 25,
   "metadata": {},
   "outputs": [
    {
     "data": {
      "text/plain": [
       "SignificanceResult(statistic=0.03701849535853825, pvalue=0.0007030057772265076)"
      ]
     },
     "execution_count": 25,
     "metadata": {},
     "output_type": "execute_result"
    }
   ],
   "source": [
    "# determine the point biserial correlation coefficient between length of text and prediction\n",
    "text_len = train_val_df['text'].apply(len)\n",
    "pointbiserialr(train_val_df.label, text_len)"
   ]
  },
  {
   "cell_type": "markdown",
   "metadata": {},
   "source": [
    "### By number of tokens"
   ]
  },
  {
   "cell_type": "code",
   "execution_count": 46,
   "metadata": {},
   "outputs": [
    {
     "data": {
      "text/plain": [
       "SignificanceResult(statistic=0.04939425266677241, pvalue=6.114179022448945e-06)"
      ]
     },
     "execution_count": 46,
     "metadata": {},
     "output_type": "execute_result"
    }
   ],
   "source": [
    "# determine the point biserial correlation coefficient between length of text and prediction\n",
    "vectorizer = CountVectorizer()\n",
    "train_val_tokens = vectorizer.fit_transform(train_val_df.text.values)\n",
    "num_tokens = np.sum(train_val_tokens.todense(), axis=1).flat\n",
    "pointbiserialr(train_val_df.label, num_tokens)"
   ]
  },
  {
   "cell_type": "markdown",
   "metadata": {},
   "source": [
    "### By repetition of tokens / maximum occurence of token"
   ]
  },
  {
   "cell_type": "code",
   "execution_count": 47,
   "metadata": {},
   "outputs": [
    {
     "data": {
      "text/plain": [
       "SignificanceResult(statistic=0.04923775027429294, pvalue=6.542441400616269e-06)"
      ]
     },
     "execution_count": 47,
     "metadata": {},
     "output_type": "execute_result"
    }
   ],
   "source": [
    "# determine the point biserial correlation coefficient between maximum occurence of token and prediction\n",
    "vectorizer = CountVectorizer()\n",
    "train_val_tokens = vectorizer.fit_transform(train_val_df.text.values)\n",
    "num_tokens = np.max(train_val_tokens.todense(), axis=1).flat\n",
    "pointbiserialr(train_val_df.label, num_tokens)"
   ]
  },
  {
   "cell_type": "markdown",
   "metadata": {},
   "source": [
    "### By Country"
   ]
  },
  {
   "cell_type": "code",
   "execution_count": 16,
   "metadata": {},
   "outputs": [
    {
     "name": "stdout",
     "output_type": "stream",
     "text": [
      "country_code\n",
      "gh    100\n",
      "ng     94\n",
      "ph     92\n",
      "za     80\n",
      "ie     74\n",
      "jm     74\n",
      "gb     74\n",
      "ca     62\n",
      "pk     62\n",
      "my     60\n",
      "lk     58\n",
      "bd     58\n",
      "nz     54\n",
      "sg     54\n",
      "us     54\n",
      "ke     52\n",
      "in     48\n",
      "au     48\n",
      "tz     44\n",
      "hk     26\n",
      "Name: count, dtype: int64\n",
      "country_code\n",
      "sg    656\n",
      "au    650\n",
      "pk    644\n",
      "us    640\n",
      "ke    630\n",
      "in    626\n",
      "my    624\n",
      "za    618\n",
      "ph    618\n",
      "lk    616\n",
      "ca    616\n",
      "hk    616\n",
      "nz    614\n",
      "gh    612\n",
      "bd    598\n",
      "ng    592\n",
      "ie    586\n",
      "gb    554\n",
      "jm    544\n",
      "tz    478\n",
      "Name: count, dtype: int64\n"
     ]
    }
   ],
   "source": [
    "# examine the number of PCL by country\n",
    "print(train_val_df[train_val_df['label'] == 1].country_code.value_counts())\n",
    "print(train_val_df[train_val_df['label'] != 1].country_code.value_counts())"
   ]
  },
  {
   "cell_type": "code",
   "execution_count": 14,
   "metadata": {},
   "outputs": [
    {
     "data": {
      "image/png": "[encoded data removed]",
      "text/plain": [
       "<Figure size 640x480 with 1 Axes>"
      ]
     },
     "metadata": {},
     "output_type": "display_data"
    }
   ],
   "source": [
    "# plot frequency plot\n",
    "train_val_df.groupby(['country_code', 'label']).size().unstack().plot(\n",
    "    kind='bar', stacked=True, color=['#a51900', '#02893b'], xlabel=\"country_code\", ylabel=\"Count\"\n",
    ")\n",
    "plt.legend(['No', 'Yes'], title=\"label\")\n",
    "plt.show()"
   ]
  },
  {
   "cell_type": "code",
   "execution_count": 21,
   "metadata": {},
   "outputs": [
    {
     "data": {
      "text/plain": [
       "0.07618400627076896"
      ]
     },
     "execution_count": 21,
     "metadata": {},
     "output_type": "execute_result"
    }
   ],
   "source": [
    "# determine the correlation between country and label using Cramer's V\n",
    "cramer_V(pd.crosstab(train_val_df['country_code'], train_val_df['label']))"
   ]
  },
  {
   "cell_type": "markdown",
   "metadata": {},
   "source": [
    "### By Keyword"
   ]
  },
  {
   "cell_type": "code",
   "execution_count": 19,
   "metadata": {},
   "outputs": [
    {
     "data": {
      "image/png": "[encoded data removed]",
      "text/plain": [
       "<Figure size 640x480 with 1 Axes>"
      ]
     },
     "metadata": {},
     "output_type": "display_data"
    }
   ],
   "source": [
    "train_val_df.groupby(['keyword', 'label']).size().unstack().plot(\n",
    "    kind='bar', stacked=True, color=['#a51900', '#02893b'], xlabel=\"keyword\", ylabel=\"Count\"\n",
    ")\n",
    "plt.legend(['No', 'Yes'], title=\"label\")\n",
    "plt.show()"
   ]
  },
  {
   "cell_type": "code",
   "execution_count": 22,
   "metadata": {},
   "outputs": [
    {
     "data": {
      "text/plain": [
       "0.1786041630371666"
      ]
     },
     "execution_count": 22,
     "metadata": {},
     "output_type": "execute_result"
    }
   ],
   "source": [
    "# determine the correlation between keyword and label using Cramer's V\n",
    "cramer_V(pd.crosstab(train_val_df['keyword'], train_val_df['label']))"
   ]
  },
  {
   "cell_type": "markdown",
   "metadata": {},
   "source": [
    "### By article ID"
   ]
  },
  {
   "cell_type": "code",
   "execution_count": 27,
   "metadata": {},
   "outputs": [
    {
     "data": {
      "text/plain": [
       "0.989978409493731"
      ]
     },
     "execution_count": 27,
     "metadata": {},
     "output_type": "execute_result"
    }
   ],
   "source": [
    "# determine the correlation between keyword and label using Cramer's V\n",
    "cramer_V(pd.crosstab(train_val_df['art_id'], train_val_df['label']))"
   ]
  }
 ],
 "metadata": {
  "kernelspec": {
   "display_name": "venv",
   "language": "python",
   "name": "python3"
  },
  "language_info": {
   "codemirror_mode": {
    "name": "ipython",
    "version": 3
   },
   "file_extension": ".py",
   "mimetype": "text/x-python",
   "name": "python",
   "nbconvert_exporter": "python",
   "pygments_lexer": "ipython3",
   "version": "3.10.5"
  }
 },
 "nbformat": 4,
 "nbformat_minor": 2
}
